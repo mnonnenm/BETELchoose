{
 "cells": [
  {
   "cell_type": "markdown",
   "id": "9a87d84d",
   "metadata": {},
   "source": [
    "# ETEL"
   ]
  },
  {
   "cell_type": "code",
   "execution_count": null,
   "id": "fcef1000",
   "metadata": {},
   "outputs": [],
   "source": [
    "import numpy as np\n",
    "import torch\n",
    "\n",
    "dtype = torch.float32\n",
    "dtype_np = np.float32\n",
    "torch.set_default_dtype(dtype)\n",
    "\n",
    "def simulator(T, 𝜇, 𝜎=1.0):\n",
    "    N = np.size(𝜇)\n",
    "    x = 𝜎 * np.random.normal(size=(N,T)) + np.atleast_2d(𝜇).T\n",
    "    return x \n",
    "\n",
    "N, T = 100, 10\n",
    "𝜇s = - 0.5 * np.ones(N) # np.random.normal(size=N)\n",
    "X = simulator(T, 𝜇=𝜇s)\n",
    "X = torch.tensor(X, dtype=dtype).unsqueeze(-1)\n",
    "X.shape"
   ]
  },
  {
   "cell_type": "code",
   "execution_count": null,
   "id": "a08faa60",
   "metadata": {},
   "outputs": [],
   "source": [
    "import scipy.optimize as spo\n",
    "from scipy.special import logsumexp\n",
    "\n",
    "class EE(torch.nn.Module):\n",
    "    def __init__(self, D, M, K):\n",
    "        super().__init__()\n",
    "        self.D = D # dimensionality of each data point x_i, i=1,...,T\n",
    "        self.M = M # dimensionality of modle parameter 𝜃\n",
    "        self.K = K # number of estimating equations\n",
    "        self.layer1 = torch.nn.Linear(D+M, K)\n",
    "    def forward(self, x, 𝜃):\n",
    "        x_full = torch.cat((x,𝜃.unsqueeze(-2).expand(-1,X.shape[-2],-1)),dim=-1)\n",
    "        return self.layer1(x_full)\n",
    "\n",
    "def Φ(𝜆, G):\n",
    "    𝜂 = torch.matmul(G, 𝜆.unsqueeze(-1)).squeeze(-1)\n",
    "    return torch.logsumexp(𝜂, axis=-1)\n",
    "\n",
    "def Φ_np(𝜆, G):\n",
    "    𝜂 = G.dot(𝜆)    \n",
    "    return logsumexp(𝜂, axis=-1)\n",
    "\n",
    "def gradΦ(𝜆, G):\n",
    "    w = torch.exp(log_w_opt(𝜆, G))\n",
    "    return G.dot(w)\n",
    "\n",
    "def solve_𝜆(G):\n",
    "    with torch.no_grad():\n",
    "        N, K = G.shape[0], G.shape[-1]\n",
    "        𝜆0 = np.zeros((N, K))\n",
    "        𝜆 = np.zeros_like(𝜆0)\n",
    "        for i in range(N):\n",
    "            def Φ_G(𝜆):\n",
    "                return Φ_np(𝜆, G[i].numpy())\n",
    "            𝜆[i] = spo.minimize(Φ_G, 𝜆0[i])['x']\n",
    "    return torch.tensor(𝜆,dtype=dtype)\n",
    "\n",
    "def log_w_opt(𝜆, G):\n",
    "    𝜂 = torch.matmul(G, 𝜆.unsqueeze(-1)).squeeze(-1)\n",
    "    return 𝜂 - torch.logsumexp(𝜂,axis=-1).unsqueeze(-1)\n",
    "\n",
    "def log_pX𝜃(g, X, 𝜃):\n",
    "    G = g(X, 𝜃)\n",
    "    𝜆 = solve_𝜆(G)\n",
    "    log_w = log_w_opt(𝜆, G)\n",
    "    return log_w.sum(axis=-1)\n"
   ]
  },
  {
   "cell_type": "code",
   "execution_count": null,
   "id": "a5de79bd",
   "metadata": {},
   "outputs": [],
   "source": [
    "\n",
    "D, M = 1, 1\n",
    "K = M # use as many estimating equations as there are model parameters\n",
    "\n",
    "g = EE(D,M,K)\n",
    "\n",
    "# manually set estimating equations to g(x,𝜃) = x - 𝜃 such that the model fits the mean 𝜃 = E[X]\n",
    "d = g.layer1.state_dict()\n",
    "d['weight'] = torch.tensor([[1.,-1.]])\n",
    "d['bias'] = torch.tensor([0.])\n",
    "g.layer1.load_state_dict(d)\n",
    "\n",
    "\n",
    "𝜃 = torch.linspace(-2, 1, N).unsqueeze(-1) # range of test values for 𝜃\n",
    "X = X[0].unsqueeze(0).repeat(N,1,1) # fix one dataset\n"
   ]
  },
  {
   "cell_type": "code",
   "execution_count": null,
   "id": "6c16b233",
   "metadata": {
    "scrolled": false
   },
   "outputs": [],
   "source": [
    "import matplotlib.pyplot as plt\n",
    "\n",
    "\n",
    "ll = log_pX𝜃(g, X, 𝜃)\n",
    "# exponentially tilted empirical likelihood \n",
    "plt.plot(𝜃.detach().numpy(), ll.detach().numpy() - ll.min().detach().numpy(), '.')\n",
    "# compare to true likelihood\n",
    "plt.plot(𝜃.detach().numpy(), (- 0.5 * (𝜃.squeeze(1) - X.mean(axis=(1,2)))**2).detach().numpy()) "
   ]
  },
  {
   "cell_type": "code",
   "execution_count": null,
   "id": "0fd10158",
   "metadata": {},
   "outputs": [],
   "source": []
  }
 ],
 "metadata": {
  "kernelspec": {
   "display_name": "Python 3 (ipykernel)",
   "language": "python",
   "name": "python3"
  },
  "language_info": {
   "codemirror_mode": {
    "name": "ipython",
    "version": 3
   },
   "file_extension": ".py",
   "mimetype": "text/x-python",
   "name": "python",
   "nbconvert_exporter": "python",
   "pygments_lexer": "ipython3",
   "version": "3.9.18"
  }
 },
 "nbformat": 4,
 "nbformat_minor": 5
}
